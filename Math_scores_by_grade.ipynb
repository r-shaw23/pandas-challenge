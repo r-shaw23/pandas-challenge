{
 "cells": [
  {
   "cell_type": "code",
   "execution_count": 1,
   "id": "154b62f7-3326-41a3-aa68-720d983bca4a",
   "metadata": {
    "tags": []
   },
   "outputs": [],
   "source": [
    "import pandas as pd\n",
    "\n",
    "df1 = pd.read_csv('schools_complete.csv')\n",
    "\n",
    "df2 = pd.read_csv('students_complete.csv')"
   ]
  },
  {
   "cell_type": "code",
   "execution_count": 2,
   "id": "395d6b25-5457-4ee5-bb74-29957873600c",
   "metadata": {
    "tags": []
   },
   "outputs": [
    {
     "name": "stdout",
     "output_type": "stream",
     "text": [
      "Average math score by grade:\n",
      "grade\n",
      "10th    78.941483\n",
      "11th    79.083548\n",
      "12th    78.993164\n",
      "9th     78.935659\n",
      "Name: math_score, dtype: float64\n"
     ]
    }
   ],
   "source": [
    "\n",
    "average_math_score_by_grade = df2.groupby('grade')['math_score'].mean()\n",
    "\n",
    "print(\"Average math score by grade:\")\n",
    "print(average_math_score_by_grade)\n"
   ]
  },
  {
   "cell_type": "code",
   "execution_count": null,
   "id": "886ef4ef-8c74-4b52-9ec2-c21e6a2b7f34",
   "metadata": {},
   "outputs": [],
   "source": []
  }
 ],
 "metadata": {
  "kernelspec": {
   "display_name": "Python 3 (ipykernel)",
   "language": "python",
   "name": "python3"
  },
  "language_info": {
   "codemirror_mode": {
    "name": "ipython",
    "version": 3
   },
   "file_extension": ".py",
   "mimetype": "text/x-python",
   "name": "python",
   "nbconvert_exporter": "python",
   "pygments_lexer": "ipython3",
   "version": "3.11.5"
  }
 },
 "nbformat": 4,
 "nbformat_minor": 5
}
