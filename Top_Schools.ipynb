{
 "cells": [
  {
   "cell_type": "code",
   "execution_count": 1,
   "id": "3608b8ea-291b-4ae0-b66a-fbbf9b5275e8",
   "metadata": {
    "tags": []
   },
   "outputs": [
    {
     "name": "stdout",
     "output_type": "stream",
     "text": [
      "Percentage of students who passed by school (sorted from highest to lowest):\n",
      "school_name\n",
      "Cabrera High School      91.334769\n",
      "Thomas High School       90.948012\n",
      "Griffin High School      90.599455\n",
      "Wilson High School       90.582567\n",
      "Pena High School         90.540541\n",
      "Wright High School       90.333333\n",
      "Shelton High School      89.892107\n",
      "Holden High School       89.227166\n",
      "Bailey High School       54.642283\n",
      "Ford High School         54.289887\n",
      "Johnson High School      53.539172\n",
      "Hernandez High School    53.527508\n",
      "Huang High School        53.513884\n",
      "Figueroa High School     53.204476\n",
      "Rodriguez High School    52.988247\n",
      "Name: student_name, dtype: float64\n"
     ]
    }
   ],
   "source": [
    "import pandas as pd\n",
    "\n",
    "df1 = pd.read_csv('schools_complete.csv')\n",
    "\n",
    "df2 = pd.read_csv('students_complete.csv')\n",
    "\n",
    "\n",
    "students_passed_both_by_school = df2[(df2['reading_score'] >= 70) & (df2['math_score'] >= 70)].groupby('school_name')['student_name'].count()\n",
    "total_students_by_school = df2.groupby('school_name')['student_name'].count()\n",
    "percentage_passed_both_by_school = (students_passed_both_by_school / total_students_by_school) * 100\n",
    "\n",
    "percentage_passed_both_by_school_sorted = percentage_passed_both_by_school.sort_values(ascending=False)\n",
    "\n",
    "print(\"Percentage of students who passed by school (sorted from highest to lowest):\")\n",
    "print(percentage_passed_both_by_school_sorted)\n"
   ]
  },
  {
   "cell_type": "code",
   "execution_count": null,
   "id": "d8b6ee1d-913a-4f5c-b89f-7b8a36a5bf2e",
   "metadata": {},
   "outputs": [],
   "source": []
  }
 ],
 "metadata": {
  "kernelspec": {
   "display_name": "Python 3 (ipykernel)",
   "language": "python",
   "name": "python3"
  },
  "language_info": {
   "codemirror_mode": {
    "name": "ipython",
    "version": 3
   },
   "file_extension": ".py",
   "mimetype": "text/x-python",
   "name": "python",
   "nbconvert_exporter": "python",
   "pygments_lexer": "ipython3",
   "version": "3.11.5"
  }
 },
 "nbformat": 4,
 "nbformat_minor": 5
}
