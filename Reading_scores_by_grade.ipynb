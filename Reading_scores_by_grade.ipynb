{
 "cells": [
  {
   "cell_type": "code",
   "execution_count": 1,
   "id": "ac418702-c5b9-44ec-8e86-d7c1098ffed1",
   "metadata": {
    "tags": []
   },
   "outputs": [],
   "source": [
    "import pandas as pd\n",
    "\n",
    "df1 = pd.read_csv('schools_complete.csv')\n",
    "\n",
    "df2 = pd.read_csv('students_complete.csv')"
   ]
  },
  {
   "cell_type": "code",
   "execution_count": 2,
   "id": "eaa7870b-07b9-4dee-9f67-0a0a84672bc2",
   "metadata": {
    "tags": []
   },
   "outputs": [
    {
     "name": "stdout",
     "output_type": "stream",
     "text": [
      "Average reading score by grade:\n",
      "grade\n",
      "10th    81.874410\n",
      "11th    81.885714\n",
      "12th    81.819851\n",
      "9th     81.914358\n",
      "Name: reading_score, dtype: float64\n"
     ]
    }
   ],
   "source": [
    "average_reading_score_by_grade = df2.groupby('grade')['reading_score'].mean()\n",
    "\n",
    "print(\"Average reading score by grade:\")\n",
    "print(average_reading_score_by_grade)\n"
   ]
  },
  {
   "cell_type": "code",
   "execution_count": null,
   "id": "390bc364-9627-4d75-a433-9316906b7830",
   "metadata": {},
   "outputs": [],
   "source": []
  }
 ],
 "metadata": {
  "kernelspec": {
   "display_name": "Python 3 (ipykernel)",
   "language": "python",
   "name": "python3"
  },
  "language_info": {
   "codemirror_mode": {
    "name": "ipython",
    "version": 3
   },
   "file_extension": ".py",
   "mimetype": "text/x-python",
   "name": "python",
   "nbconvert_exporter": "python",
   "pygments_lexer": "ipython3",
   "version": "3.11.5"
  }
 },
 "nbformat": 4,
 "nbformat_minor": 5
}
