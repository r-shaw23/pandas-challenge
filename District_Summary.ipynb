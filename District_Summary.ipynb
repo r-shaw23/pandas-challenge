{
 "cells": [
  {
   "cell_type": "code",
   "execution_count": 16,
   "id": "4dbea7b1-ec4e-4d30-a09d-ac21c03c00aa",
   "metadata": {
    "tags": []
   },
   "outputs": [],
   "source": [
    "import pandas as pd\n",
    "\n",
    "df1 = pd.read_csv('schools_complete.csv')\n",
    "\n",
    "df2 = pd.read_csv('students_complete.csv')\n"
   ]
  },
  {
   "cell_type": "code",
   "execution_count": 18,
   "id": "c71bf7cd-220b-4480-a431-f6a07b185180",
   "metadata": {
    "tags": []
   },
   "outputs": [
    {
     "name": "stdout",
     "output_type": "stream",
     "text": [
      "Total number of unique schools: 15\n"
     ]
    }
   ],
   "source": [
    "\n",
    "total_unique_schools = df1['school_name'].nunique()\n",
    "\n",
    "print(\"Total number of unique schools:\", total_unique_schools)\n"
   ]
  },
  {
   "cell_type": "code",
   "execution_count": 19,
   "id": "d71c0022-a073-4c01-9101-e7cb20d9efe8",
   "metadata": {
    "tags": []
   },
   "outputs": [
    {
     "name": "stdout",
     "output_type": "stream",
     "text": [
      "Total Students: 32715\n"
     ]
    }
   ],
   "source": [
    "total_students = df2['student_name'].nunique()\n",
    "\n",
    "print(\"Total Students:\", total_students)"
   ]
  },
  {
   "cell_type": "code",
   "execution_count": 35,
   "id": "d62beeab-e32b-4ff6-9084-bf69b8001fb9",
   "metadata": {
    "tags": []
   },
   "outputs": [
    {
     "name": "stdout",
     "output_type": "stream",
     "text": [
      "Total Budget: $24,649,428.00\n"
     ]
    }
   ],
   "source": [
    "total_budget = df1['budget'].sum()\n",
    "\n",
    "print(\"Total Budget:\", '${:,.2f}'.format(total_budget))\n",
    "\n"
   ]
  },
  {
   "cell_type": "code",
   "execution_count": 38,
   "id": "ba4bb9cf-5d67-46b0-9722-eb830d0331d3",
   "metadata": {
    "tags": []
   },
   "outputs": [
    {
     "name": "stdout",
     "output_type": "stream",
     "text": [
      "Average Reading Score: 81.88\n"
     ]
    }
   ],
   "source": [
    "\n",
    "reading_average_score = df2['reading_score'].mean()\n",
    "\n",
    "reading_average_score = round(reading_average_score, 2)\n",
    "\n",
    "print(\"Average Reading Score:\", reading_average_score)\n"
   ]
  },
  {
   "cell_type": "code",
   "execution_count": 39,
   "id": "39c5b303-0860-4185-b984-3843e07c38b9",
   "metadata": {
    "tags": []
   },
   "outputs": [
    {
     "name": "stdout",
     "output_type": "stream",
     "text": [
      "Average Math Score: 78.99\n"
     ]
    }
   ],
   "source": [
    "math_average_score = df2['math_score'].mean()\n",
    "\n",
    "math_average_score = round(math_average_score, 2)\n",
    "\n",
    "print(\"Average Math Score:\", math_average_score)"
   ]
  },
  {
   "cell_type": "code",
   "execution_count": 45,
   "id": "db4bd5d1-aacc-4621-a4c3-540d27f72456",
   "metadata": {
    "tags": []
   },
   "outputs": [
    {
     "name": "stdout",
     "output_type": "stream",
     "text": [
      "Percentage of students who passed reading: 85.81%\n"
     ]
    }
   ],
   "source": [
    "reading_num_passed = len(df2[df2['reading_score'] >= 70])\n",
    "\n",
    "reading_total_scores = len(df2)\n",
    "\n",
    "reading_percentage_passed = (reading_num_passed / reading_total_scores) * 100\n",
    "\n",
    "\n",
    "print(\"Percentage of students who passed reading:\", '{:.2f}%'.format(reading_percentage_passed))\n"
   ]
  },
  {
   "cell_type": "code",
   "execution_count": 46,
   "id": "6545f90a-3cce-497f-8826-f6f5184ab8ec",
   "metadata": {
    "tags": []
   },
   "outputs": [
    {
     "name": "stdout",
     "output_type": "stream",
     "text": [
      "Percentage of students who passed math: 74.98%\n"
     ]
    }
   ],
   "source": [
    "\n",
    "math_num_passed = len(df2[df2['math_score'] >= 70])\n",
    "\n",
    "math_total_scores = len(df2)\n",
    "\n",
    "math_percentage_passed = (math_num_passed / math_total_scores) * 100\n",
    "\n",
    "\n",
    "print(\"Percentage of students who passed math:\", '{:.2f}%'.format(math_percentage_passed))"
   ]
  },
  {
   "cell_type": "code",
   "execution_count": 47,
   "id": "60d1bbdb-62e9-4421-a2fe-d479d40d2d39",
   "metadata": {
    "tags": []
   },
   "outputs": [
    {
     "name": "stdout",
     "output_type": "stream",
     "text": [
      "Percentage of students who pass overall: 65.17%\n"
     ]
    }
   ],
   "source": [
    "\n",
    "num_students_passed_both = len(df2[(df2['reading_score'] >= 70) & (df2['math_score'] >= 70)])\n",
    "\n",
    "total_students = len(df2)\n",
    "\n",
    "percentage_passed_both = (num_students_passed_both / total_students) * 100\n",
    "\n",
    "print(\"Percentage of students who pass overall:\", '{:.2f}%'.format(percentage_passed_both))"
   ]
  },
  {
   "cell_type": "code",
   "execution_count": null,
   "id": "9ffa93af-2b05-4fba-94be-ab26f6f29489",
   "metadata": {},
   "outputs": [],
   "source": []
  }
 ],
 "metadata": {
  "kernelspec": {
   "display_name": "Python 3 (ipykernel)",
   "language": "python",
   "name": "python3"
  },
  "language_info": {
   "codemirror_mode": {
    "name": "ipython",
    "version": 3
   },
   "file_extension": ".py",
   "mimetype": "text/x-python",
   "name": "python",
   "nbconvert_exporter": "python",
   "pygments_lexer": "ipython3",
   "version": "3.11.5"
  }
 },
 "nbformat": 4,
 "nbformat_minor": 5
}
